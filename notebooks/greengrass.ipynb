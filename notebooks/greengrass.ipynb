{
 "cells": [
  {
   "cell_type": "markdown",
   "metadata": {},
   "source": [
    "# AWS IoT Greengrass Workshop\n",
    "\n",
    "[Requirements for Greengrass on an EC2 instance](https://docs.aws.amazon.com/greengrass/latest/developerguide/module1.html#setup-filter.ec2)"
   ]
  },
  {
   "cell_type": "code",
   "execution_count": null,
   "metadata": {},
   "outputs": [],
   "source": [
    "import boto3\n",
    "import sys\n",
    "import os\n",
    "import json\n",
    "import base64\n",
    "import project_path # path to helper methods\n",
    "\n",
    "from lib import workshop\n",
    "from botocore.exceptions import ClientError\n",
    "project_name = 'iot-greengrass-workshop'\n",
    "\n",
    "ec2_client = boto3.client('ec2')\n",
    "ec2 = boto3.resource('ec2')\n",
    "\n",
    "gg = boto3.client('greengrass')\n",
    "iot = boto3.client('iot')\n",
    "\n",
    "session = boto3.session.Session()\n",
    "region = session.region_name"
   ]
  },
  {
   "cell_type": "markdown",
   "metadata": {},
   "source": [
    "## Create VPC for workshop greengrass EC2 device\n",
    "\n",
    "In order to simulate a Greengrass device on an EC2 instance we will create a new VPC with a public subnet by running the code below. As you can see to make a subnet public an Internet Gateway is attached to the VPC and a routing table is created with and entry to route all traffic at `0.0.0.0/0` to the Internet gateway. We will store the VPC and Subnet Id's to be used later in the notebook."
   ]
  },
  {
   "cell_type": "code",
   "execution_count": null,
   "metadata": {},
   "outputs": [],
   "source": [
    "vpc, subnet = workshop.create_and_configure_vpc()\n",
    "vpc_id = vpc.id\n",
    "subnet_id = subnet.id\n",
    "print(vpc_id)\n",
    "print(subnet_id)"
   ]
  },
  {
   "cell_type": "markdown",
   "metadata": {},
   "source": [
    "### Create the EC2 Keypair\n",
    "\n",
    "A new EC2 Keypair will be created to allow us to SSH into the EC2 instance. We could have also used the Systems Manager Session Manager here as well."
   ]
  },
  {
   "cell_type": "code",
   "execution_count": null,
   "metadata": {},
   "outputs": [],
   "source": [
    "!mkdir iot\n",
    "!mkdir iot/bp\n",
    "!mkdir iot/hr\n",
    "!mkdir iot/ht"
   ]
  },
  {
   "cell_type": "code",
   "execution_count": null,
   "metadata": {},
   "outputs": [],
   "source": [
    "try:\n",
    "    response = ec2_client.describe_key_pairs(\n",
    "    KeyNames=[\n",
    "        project_name,\n",
    "    ],\n",
    ")\n",
    "except ClientError as e:\n",
    "    if e.response['Error']['Code'] == 'InvalidKeyPair.NotFound':\n",
    "        print ('Creating keypair: %s' % project_name)\n",
    "        # Create an SSH key to use when logging into instances.\n",
    "        outfile = open('iot/'+project_name + '.pem','w')\n",
    "        key_pair = ec2.create_key_pair(KeyName=project_name)\n",
    "        KeyPairOut = str(key_pair.key_material)\n",
    "        outfile.write(KeyPairOut)\n",
    "        outfile.close()\n",
    "        os.chmod('iot/'+project_name + '.pem', 400)\n",
    "    else:\n",
    "        print ('Keypair: %s already exists' % project_name)"
   ]
  },
  {
   "cell_type": "markdown",
   "metadata": {},
   "source": [
    "### Create Security Group for EC2 instance\n",
    "\n",
    "The security group will open ports `22` and `8883` respectively for SSH and MQTT access."
   ]
  },
  {
   "cell_type": "code",
   "execution_count": null,
   "metadata": {},
   "outputs": [],
   "source": [
    "sec_group = ec2_client.create_security_group(\n",
    "    Description='Security Group for EC2 instance acting as IoT Greengrass device',\n",
    "    GroupName=project_name+'-sg',\n",
    "    VpcId=vpc_id\n",
    ")\n",
    "\n",
    "sec_group_id=sec_group[\"GroupId\"]\n",
    "print(sec_group_id)"
   ]
  },
  {
   "cell_type": "code",
   "execution_count": null,
   "metadata": {},
   "outputs": [],
   "source": [
    "data = ec2_client.authorize_security_group_ingress(\n",
    "    GroupId=sec_group_id,\n",
    "    IpPermissions=[\n",
    "        {'IpProtocol': 'tcp',\n",
    "         'FromPort': 22,\n",
    "         'ToPort': 22,\n",
    "         'IpRanges': [\n",
    "            {\n",
    "                'CidrIp': '0.0.0.0/0',\n",
    "                'Description': 'SSH access'\n",
    "            },\n",
    "          ]\n",
    "        },\n",
    "        {'IpProtocol': 'tcp',\n",
    "         'FromPort': 8883,\n",
    "         'ToPort': 8883,\n",
    "         'IpRanges': [\n",
    "            {\n",
    "                'CidrIp': '0.0.0.0/0',\n",
    "                'Description': 'MQTT access'\n",
    "            },\n",
    "          ]\n",
    "        }\n",
    "    ]\n",
    ")\n",
    "\n",
    "print(data)"
   ]
  },
  {
   "cell_type": "markdown",
   "metadata": {},
   "source": [
    "### Get latest Amazon Linux AMI in the region\n",
    "\n",
    "We will lookup the latest AMI version of the Amazon Linux OS to be used for the EC2 instance."
   ]
  },
  {
   "cell_type": "code",
   "execution_count": null,
   "metadata": {},
   "outputs": [],
   "source": [
    "ami = workshop.get_latest_amazon_linux()\n",
    "print(ami)"
   ]
  },
  {
   "cell_type": "markdown",
   "metadata": {},
   "source": [
    "### Create the EC2 instance to act as the edge device using Greengrass\n",
    "\n",
    "The UserData section of the EC2 instance launch includes everything needed to configure and install Greengrass on the EC2 instance. View the UserData below to get an understanding of what's involved to configure Greengrass on devices. [Greengrass Core downloads](https://docs.aws.amazon.com/greengrass/latest/developerguide/what-is-gg.html#gg-core-download-tab) link provides the available devices and OS's available.\n",
    "\n",
    "Before running the EC2 create instance cell change the `REGION=<CHOOSE REGION>` to the region you are running in. i.e. `REGION=us-west-2`"
   ]
  },
  {
   "cell_type": "code",
   "execution_count": null,
   "metadata": {},
   "outputs": [],
   "source": [
    "!cat userdata.sh"
   ]
  },
  {
   "cell_type": "code",
   "execution_count": null,
   "metadata": {},
   "outputs": [],
   "source": [
    "fh=open(\"userdata.sh\")\n",
    "userdata=fh.read()\n",
    "fh.close()\n",
    "\n",
    "userdataencode = base64.b64encode(userdata.encode()).decode(\"ascii\")\n",
    "\n",
    "response = ec2_client.run_instances(\n",
    "    BlockDeviceMappings=[\n",
    "        {\n",
    "            'DeviceName': '/dev/xvda',\n",
    "            'Ebs': {\n",
    "\n",
    "                'DeleteOnTermination': True,\n",
    "                'VolumeSize': 10\n",
    "            },\n",
    "        },\n",
    "    ],\n",
    "    ImageId=ami,\n",
    "    InstanceType='t3.micro',\n",
    "    MaxCount=1,\n",
    "    MinCount=1,\n",
    "    KeyName=project_name,\n",
    "    Monitoring={\n",
    "        'Enabled': True\n",
    "    },\n",
    "    NetworkInterfaces=[{\n",
    "        \"DeviceIndex\": 0,\n",
    "        \"SubnetId\": subnet_id,\n",
    "        \"Groups\": [\n",
    "            sec_group_id\n",
    "        ],\n",
    "        \"AssociatePublicIpAddress\": True\n",
    "    }],\n",
    "    UserData=userdataencode,\n",
    "    TagSpecifications=[\n",
    "        {\n",
    "            'ResourceType': 'instance',\n",
    "            'Tags': [\n",
    "                {\n",
    "                    'Key': 'Name',\n",
    "                    'Value': 'iot_greengrass_device'\n",
    "                },\n",
    "            ]\n",
    "        },\n",
    "    ]\n",
    ")\n",
    "\n",
    "instance_id = response['Instances'][0]['InstanceId']\n",
    "\n",
    "waiter = ec2_client.get_waiter('instance_status_ok')\n",
    "waiter.wait(\n",
    "    InstanceIds=[\n",
    "        instance_id,\n",
    "    ])\n",
    "\n",
    "print(instance_id+' created successfully')"
   ]
  },
  {
   "cell_type": "markdown",
   "metadata": {},
   "source": [
    "### Get the Public IP Address of the EC2 instance to ssh into."
   ]
  },
  {
   "cell_type": "code",
   "execution_count": null,
   "metadata": {},
   "outputs": [],
   "source": [
    "response = ec2_client.describe_instances(\n",
    "    InstanceIds=[\n",
    "        instance_id,\n",
    "    ])\n",
    "\n",
    "public_ip = response['Reservations'][0]['Instances'][0]['PublicIpAddress']\n",
    "print(public_ip)\n",
    "\n",
    "print('ssh -i '+project_name+'.pem ec2-user@'+public_ip)"
   ]
  },
  {
   "cell_type": "markdown",
   "metadata": {},
   "source": [
    "To SSH into the EC2 instance you can open a terminal from the `+` or `New` notebook menu and select Terminal. Once you have shell access you can `cd ~/SageMaker/iot-greengrass-workshop/notebooks/` and then run the ssh command from the output above"
   ]
  },
  {
   "cell_type": "markdown",
   "metadata": {},
   "source": [
    "## Setup the IoT sensors and Greengrass Core device in AWS"
   ]
  },
  {
   "cell_type": "markdown",
   "metadata": {},
   "source": [
    "### Create Thing Type"
   ]
  },
  {
   "cell_type": "code",
   "execution_count": null,
   "metadata": {},
   "outputs": [],
   "source": [
    "thing_type = 'healthtracker'\n",
    "\n",
    "response = iot.create_thing_type(\n",
    "    thingTypeName=thing_type\n",
    ")"
   ]
  },
  {
   "cell_type": "markdown",
   "metadata": {},
   "source": [
    "### Create the core IoT device"
   ]
  },
  {
   "cell_type": "code",
   "execution_count": null,
   "metadata": {},
   "outputs": [],
   "source": [
    "bp_thing = iot.create_thing(thingName='igw_bp_sensor', thingTypeName=thing_type)\n",
    "\n",
    "hr_thing = iot.create_thing(thingName='igw_hr_sensor', thingTypeName=thing_type)\n",
    "\n",
    "ht_group_thing = iot.create_thing(thingName='ht_group_thing', thingTypeName=thing_type)"
   ]
  },
  {
   "cell_type": "markdown",
   "metadata": {},
   "source": [
    "### Create the Keys and Certificate required for the device"
   ]
  },
  {
   "cell_type": "code",
   "execution_count": null,
   "metadata": {},
   "outputs": [],
   "source": [
    "bp_keys_cert = iot.create_keys_and_certificate(setAsActive=True)\n",
    "\n",
    "hr_keys_cert = iot.create_keys_and_certificate(setAsActive=True)\n",
    "\n",
    "ht_keys_cert = iot.create_keys_and_certificate(setAsActive=True)"
   ]
  },
  {
   "cell_type": "code",
   "execution_count": null,
   "metadata": {},
   "outputs": [],
   "source": [
    "print(bp_keys_cert)\n",
    "print(hr_keys_cert)\n",
    "print(ht_keys_cert)"
   ]
  },
  {
   "cell_type": "markdown",
   "metadata": {},
   "source": [
    "### Attach the principal to each device"
   ]
  },
  {
   "cell_type": "code",
   "execution_count": null,
   "metadata": {},
   "outputs": [],
   "source": [
    "iot.attach_thing_principal(thingName=bp_thing['thingName'], principal=bp_keys_cert['certificateArn'])\n",
    "\n",
    "iot.attach_thing_principal(thingName=hr_thing['thingName'], principal=hr_keys_cert['certificateArn'])\n",
    "\n",
    "iot.attach_thing_principal(thingName=ht_group_thing['thingName'], principal=ht_keys_cert['certificateArn'])"
   ]
  },
  {
   "cell_type": "markdown",
   "metadata": {},
   "source": [
    "### Create the IoT Policy for the Greengrass device"
   ]
  },
  {
   "cell_type": "code",
   "execution_count": null,
   "metadata": {},
   "outputs": [],
   "source": [
    "core_policy_doc = {\n",
    "    \"Version\": \"2012-10-17\",\n",
    "    \"Statement\": [\n",
    "        {\n",
    "            \"Effect\": \"Allow\",\n",
    "            \"Action\": [\n",
    "                \"iot:Publish\",\n",
    "                \"iot:Subscribe\",\n",
    "                \"iot:Connect\",\n",
    "                \"iot:Receive\",\n",
    "                \"iot:GetThingShadow\",\n",
    "                \"iot:DeleteThingShadow\",\n",
    "                \"iot:UpdateThingShadow\"\n",
    "            ],\n",
    "            \"Resource\": [\"arn:aws:iot:\" + boto3.session.Session().region_name + \":*:*\"]\n",
    "        },\n",
    "        {\n",
    "            \"Effect\": \"Allow\",\n",
    "            \"Action\": [\n",
    "                \"greengrass:AssumeRoleForGroup\",\n",
    "                \"greengrass:CreateCertificate\",\n",
    "                \"greengrass:GetConnectivityInfo\",\n",
    "                \"greengrass:GetDeployment\",\n",
    "                \"greengrass:GetDeploymentArtifacts\",\n",
    "                \"greengrass:UpdateConnectivityInfo\",\n",
    "                \"greengrass:UpdateCoreDeploymentStatus\"\n",
    "            ],\n",
    "            \"Resource\": [\"*\"]\n",
    "        }\n",
    "    ]\n",
    "}\n",
    "\n",
    "policy = iot.create_policy(\n",
    "    policyName=\"iot_greengrass_workshop_policy\",\n",
    "    policyDocument=json.dumps(core_policy_doc)\n",
    ")"
   ]
  },
  {
   "cell_type": "markdown",
   "metadata": {},
   "source": [
    "### Attach the policy to the principal"
   ]
  },
  {
   "cell_type": "code",
   "execution_count": null,
   "metadata": {},
   "outputs": [],
   "source": [
    "iot.attach_principal_policy(\n",
    "    policyName=policy['policyName'],\n",
    "    principal=bp_keys_cert['certificateArn']\n",
    ")\n",
    "\n",
    "iot.attach_principal_policy(\n",
    "    policyName=policy['policyName'],\n",
    "    principal=hr_keys_cert['certificateArn']\n",
    ")\n",
    "\n",
    "iot.attach_principal_policy(\n",
    "    policyName=policy['policyName'],\n",
    "    principal=ht_keys_cert['certificateArn']\n",
    ")"
   ]
  },
  {
   "cell_type": "markdown",
   "metadata": {},
   "source": [
    "### Configure Greengrass\n",
    "\n",
    "To make setup more simplified there is a helper library available, but to understand the moving parts we will make the individual calls. The library source can be found at [Greengrass Group Setup](https://github.com/awslabs/aws-greengrass-group-setup)"
   ]
  },
  {
   "cell_type": "code",
   "execution_count": null,
   "metadata": {},
   "outputs": [],
   "source": [
    "group = gg.create_group(Name=\"health_tracker\")"
   ]
  },
  {
   "cell_type": "markdown",
   "metadata": {},
   "source": [
    "### Create the core definition in to display in the AWS Console"
   ]
  },
  {
   "cell_type": "code",
   "execution_count": null,
   "metadata": {},
   "outputs": [],
   "source": [
    "core_definition = gg.create_core_definition(\n",
    "    Name=\"{0}_core_def\".format(group['Name']),\n",
    "    InitialVersion= {\n",
    "        'Cores': [\n",
    "            {\n",
    "                'Id': ht_group_thing['thingName'],\n",
    "                'CertificateArn': bp_keys_cert['certificateArn'],\n",
    "                'SyncShadow': False, # Up to you, True|False\n",
    "                'ThingArn': ht_group_thing['thingArn']\n",
    "            }\n",
    "        ]\n",
    "    }\n",
    ")"
   ]
  },
  {
   "cell_type": "markdown",
   "metadata": {},
   "source": [
    "### Crete the initial version of the group and device"
   ]
  },
  {
   "cell_type": "code",
   "execution_count": null,
   "metadata": {},
   "outputs": [],
   "source": [
    "group_ver = gg.create_group_version(\n",
    "    GroupId=group['Id'],\n",
    "    CoreDefinitionVersionArn=core_definition['LatestVersionArn']\n",
    ")"
   ]
  },
  {
   "cell_type": "code",
   "execution_count": null,
   "metadata": {},
   "outputs": [],
   "source": [
    "print (\"Group: https://.console.aws.amazon.com/iot/home?region={}#/greengrass/groups/{}\".format(region, group['Id']))\n",
    "print (\"BP thing: https://{0}.console.aws.amazon.com/iot/home?{0}#/thing/igw_bp_sensor\".format(region))\n",
    "print (\"HR thing: https://{0}.console.aws.amazon.com/iot/home?{0}#/thing/igw_hr_sensor\".format(region))\n",
    "print (\"BP Certificate and policy: https://{0}.console.aws.amazon.com/iot/home?region={0}#/certificate/{1}\".format(region, bp_keys_cert['certificateId']))\n",
    "print (\"HR Certificate and policy: https://{0}.console.aws.amazon.com/iot/home?region={0}#/certificate/{1}\".format(region, hr_keys_cert['certificateId']))\n"
   ]
  },
  {
   "cell_type": "code",
   "execution_count": null,
   "metadata": {},
   "outputs": [],
   "source": [
    "state = {\n",
    "    'group': group,\n",
    "    'bp_thing': bp_thing,\n",
    "    'hr_thing': hr_thing,\n",
    "    'bp_keys_cert': bp_keys_cert,\n",
    "    'hr_keys_cert': hr_keys_cert,\n",
    "    'group_ver': group_ver,\n",
    "    'core_definition': core_definition,\n",
    "    'policy': policy\n",
    "}"
   ]
  },
  {
   "cell_type": "code",
   "execution_count": null,
   "metadata": {},
   "outputs": [],
   "source": [
    "with open('./state.json', 'w') as f:\n",
    "    json.dump(state, f, indent=4)\n",
    "    \n",
    "state"
   ]
  },
  {
   "cell_type": "code",
   "execution_count": null,
   "metadata": {},
   "outputs": [],
   "source": [
    "response = iot.describe_endpoint()\n",
    "tempIoTHost = response['endpointAddress']\n",
    "tempGGHost = 'greengrass.iot.' + region + '.amazonaws.com'\n",
    "\n",
    "print(tempIoTHost)\n",
    "print(tempGGHost)"
   ]
  },
  {
   "cell_type": "code",
   "execution_count": null,
   "metadata": {},
   "outputs": [],
   "source": [
    "with open('./iot/iot-bp-pem-crt', 'w') as f:\n",
    "    f.write(bp_keys_cert['certificatePem'])\n",
    "\n",
    "with open('./iot/iot-bp-pem-key', 'w') as f:\n",
    "    f.write(bp_keys_cert['keyPair']['PrivateKey'])\n",
    "\n",
    "config = {\n",
    "    \"coreThing\": {\n",
    "        \"caPath\": \"root.ca.pem\",\n",
    "        \"certPath\": \"iot-bp-pem-crt\",\n",
    "        \"keyPath\": \"iot-bp-pem-key\",\n",
    "        \"thingArn\": bp_thing['thingArn'],\n",
    "        \"iotHost\": tempIoTHost,\n",
    "        \"ggHost\": tempGGHost,\n",
    "        \"keepAlive\" : 600\n",
    "    },\n",
    "    \"runtime\": {\n",
    "        \"cgroup\": {\n",
    "            \"useSystemd\": \"yes\"\n",
    "        }\n",
    "    },\n",
    "    \"managedRespawn\": False\n",
    "}\n",
    "with open('./iot/bp_config.json', 'w') as f:\n",
    "    json.dump(config, f, indent=4)"
   ]
  },
  {
   "cell_type": "code",
   "execution_count": null,
   "metadata": {},
   "outputs": [],
   "source": [
    "with open('./iot/iot-hr-pem-crt', 'w') as f:\n",
    "    f.write(hr_keys_cert['certificatePem'])\n",
    "\n",
    "with open('./iot/iot-hr-pem-key', 'w') as f:\n",
    "    f.write(hr_keys_cert['keyPair']['PrivateKey'])\n",
    "\n",
    "config = {\n",
    "    \"coreThing\": {\n",
    "        \"caPath\": \"root.ca.pem\",\n",
    "        \"certPath\": \"iot-hr-pem-crt\",\n",
    "        \"keyPath\": \"iot-hr-pem-key\",\n",
    "        \"thingArn\": hr_thing['thingArn'],\n",
    "        \"iotHost\": tempIoTHost,\n",
    "        \"ggHost\": tempGGHost,\n",
    "        \"keepAlive\" : 600\n",
    "    },\n",
    "    \"runtime\": {\n",
    "        \"cgroup\": {\n",
    "            \"useSystemd\": \"yes\"\n",
    "        }\n",
    "    },\n",
    "    \"managedRespawn\": False\n",
    "}\n",
    "with open('./iot/hr_config.json', 'w') as f:\n",
    "    json.dump(config, f, indent=4)"
   ]
  },
  {
   "cell_type": "markdown",
   "metadata": {},
   "source": [
    "## Cleanup"
   ]
  },
  {
   "cell_type": "code",
   "execution_count": null,
   "metadata": {},
   "outputs": [],
   "source": [
    "ec2_client.terminate_instances(InstanceIds=[instance_id])\n",
    "\n",
    "waiter=ec2_client.get_waiter('instance_terminated')\n",
    "waiter.wait(InstanceIds=[instance_id])"
   ]
  },
  {
   "cell_type": "code",
   "execution_count": null,
   "metadata": {},
   "outputs": [],
   "source": [
    "workshop.vpc_cleanup(vpc_id)"
   ]
  },
  {
   "cell_type": "code",
   "execution_count": null,
   "metadata": {},
   "outputs": [],
   "source": [
    "response = ec2_client.delete_key_pair(\n",
    "    KeyName=project_name,\n",
    ")"
   ]
  }
 ],
 "metadata": {
  "kernelspec": {
   "display_name": "conda_pytorch_p36",
   "language": "python",
   "name": "conda_pytorch_p36"
  },
  "language_info": {
   "codemirror_mode": {
    "name": "ipython",
    "version": 3
   },
   "file_extension": ".py",
   "mimetype": "text/x-python",
   "name": "python",
   "nbconvert_exporter": "python",
   "pygments_lexer": "ipython3",
   "version": "3.6.5"
  }
 },
 "nbformat": 4,
 "nbformat_minor": 2
}
